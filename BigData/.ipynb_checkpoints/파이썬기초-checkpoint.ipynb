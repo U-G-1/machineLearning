{
 "cells": [
  {
   "cell_type": "code",
   "execution_count": 1,
   "id": "8410a686-8714-4326-a0da-f6e3cef78640",
   "metadata": {},
   "outputs": [],
   "source": [
    "# 리스트 생성\n",
    "\n",
    "list_1 = [1,2,3,4]\n",
    "list_4 = []\n",
    "list_5 = list()"
   ]
  },
  {
   "cell_type": "code",
   "execution_count": 2,
   "id": "6e310b58-3432-4522-b29b-14ca5b02e325",
   "metadata": {},
   "outputs": [],
   "source": [
    "#range\n",
    "\n",
    "range1 = range(0, 10)\n",
    "range2 = range(10)"
   ]
  },
  {
   "cell_type": "code",
   "execution_count": 3,
   "id": "c605a654-ecde-45cf-b4ef-2ba3b6c3036c",
   "metadata": {},
   "outputs": [
    {
     "name": "stdout",
     "output_type": "stream",
     "text": [
      "[0, 2, 4, 6, 8]\n"
     ]
    }
   ],
   "source": [
    "range_5 = range(0,10,2)\n",
    "print(list(range_5))"
   ]
  },
  {
   "cell_type": "code",
   "execution_count": 4,
   "id": "ae4f5ec7-cffd-4fce-8cba-b7ed91a300a8",
   "metadata": {},
   "outputs": [
    {
     "name": "stdout",
     "output_type": "stream",
     "text": [
      "{'A': 1, 'B': 2, 'C': 3}\n"
     ]
    }
   ],
   "source": [
    "#딕셔너리\n",
    "dic1 = {'A':1, 'B':2, 'C':3}\n",
    "print(dic1)"
   ]
  },
  {
   "cell_type": "code",
   "execution_count": 5,
   "id": "48959dbc-08d8-4266-bd9b-efaeff6e38ae",
   "metadata": {},
   "outputs": [
    {
     "name": "stdout",
     "output_type": "stream",
     "text": [
      "{'A': 1, 'B': 2, 'C': 3, 'D': 4}\n"
     ]
    }
   ],
   "source": [
    "dic1['D']=4\n",
    "print(dic1)"
   ]
  },
  {
   "cell_type": "code",
   "execution_count": 6,
   "id": "65d09cfd-c57a-40d1-a660-21fc77eb9461",
   "metadata": {},
   "outputs": [
    {
     "name": "stdout",
     "output_type": "stream",
     "text": [
      "<class 'dict'>\n"
     ]
    }
   ],
   "source": [
    "print(type(dic1))"
   ]
  },
  {
   "cell_type": "code",
   "execution_count": 7,
   "id": "cd68474e-a970-42b9-9a95-6158a3175884",
   "metadata": {},
   "outputs": [
    {
     "data": {
      "text/plain": [
       "2"
      ]
     },
     "execution_count": 7,
     "metadata": {},
     "output_type": "execute_result"
    }
   ],
   "source": [
    "def fun1(num):\n",
    "    return (num+1)\n",
    "fun1(1)"
   ]
  },
  {
   "cell_type": "code",
   "execution_count": 1,
   "id": "d14b0b21-22cc-443b-8738-87a0dfe2e4e9",
   "metadata": {},
   "outputs": [
    {
     "name": "stdout",
     "output_type": "stream",
     "text": [
      "9 는 홀수입니다\n"
     ]
    }
   ],
   "source": [
    "x = 9\n",
    "if x % 2 == 0:\n",
    "    print(x, \"는 짝수입니다\")\n",
    "elif x % 2 == 1:\n",
    "    print(x, \"는 홀수입니다\")\n",
    "else :\n",
    "    print(\"정수를 입력해주세요\")\n",
    "        "
   ]
  },
  {
   "cell_type": "code",
   "execution_count": 2,
   "id": "8ce711fa-281e-4d74-9070-f27bce4878b1",
   "metadata": {},
   "outputs": [
    {
     "name": "stdout",
     "output_type": "stream",
     "text": [
      "This year is  2015\n",
      "This year is  2016\n",
      "This year is  2017\n",
      "This year is  2018\n"
     ]
    }
   ],
   "source": [
    "for year in range(2015, 2019):\n",
    "    print(\"This year is \", year)\n",
    "    year = year+1"
   ]
  },
  {
   "cell_type": "code",
   "execution_count": 5,
   "id": "c96c6e2e-0fc3-4ef2-ac74-597a94675b1a",
   "metadata": {},
   "outputs": [
    {
     "name": "stdout",
     "output_type": "stream",
     "text": [
      "This year is  2015\n",
      "This year is  2016\n",
      "This year is  2017\n",
      "This year is  2018\n"
     ]
    }
   ],
   "source": [
    "year = 2015\n",
    "while year <= 2018:\n",
    "    print(\"This year is \", year)\n",
    "    year = year+1"
   ]
  },
  {
   "cell_type": "code",
   "execution_count": null,
   "id": "4c09241d-5bc9-47ad-b5dc-1272ef1601b0",
   "metadata": {},
   "outputs": [],
   "source": []
  }
 ],
 "metadata": {
  "kernelspec": {
   "display_name": "Python 3 (ipykernel)",
   "language": "python",
   "name": "python3"
  },
  "language_info": {
   "codemirror_mode": {
    "name": "ipython",
    "version": 3
   },
   "file_extension": ".py",
   "mimetype": "text/x-python",
   "name": "python",
   "nbconvert_exporter": "python",
   "pygments_lexer": "ipython3",
   "version": "3.9.12"
  }
 },
 "nbformat": 4,
 "nbformat_minor": 5
}
