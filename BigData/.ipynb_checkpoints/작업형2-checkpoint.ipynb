{
 "cells": [
  {
   "cell_type": "code",
   "execution_count": 1,
   "id": "878c315c-9713-479a-a31d-6416cf21c5c8",
   "metadata": {},
   "outputs": [],
   "source": [
    "# 패키지로부터 클래스, 함수를 호출\n",
    "from sklearn.tree import DecisionTreeClassifier\n",
    "from sklearn.model_selection import train_test_split"
   ]
  },
  {
   "cell_type": "code",
   "execution_count": 2,
   "id": "61149ca5-c2b0-454d-b1bf-b4eec3a643f5",
   "metadata": {},
   "outputs": [],
   "source": [
    "# breast_cancer 데이터셋 호출\n",
    "from sklearn.datasets import load_breast_cancer"
   ]
  },
  {
   "cell_type": "code",
   "execution_count": 3,
   "id": "7192832d-f2a2-43e5-8b7b-74522df35098",
   "metadata": {},
   "outputs": [],
   "source": [
    "breast_cancer = load_breast_cancer()\n",
    "data = breast_cancer.data\n",
    "target = breast_cancer.target"
   ]
  },
  {
   "cell_type": "code",
   "execution_count": 4,
   "id": "452584d9-971e-4b15-ba22-1abfb8f4c086",
   "metadata": {},
   "outputs": [],
   "source": [
    "# 데이터 분할\n",
    "X_train, X_test, y_train, y_test = train_test_split(data, target, test_size = 0.2,\n",
    "                                                   random_state = 2205, stratify = target)"
   ]
  },
  {
   "cell_type": "code",
   "execution_count": 8,
   "id": "bf58b032-a7f3-48bd-a9f1-0f27536e8357",
   "metadata": {},
   "outputs": [],
   "source": [
    "# 모델객체 생성\n",
    "dtr_bin = DecisionTreeClassifier(max_depth = 3, min_samples_leaf = 10, random_state = 2022)"
   ]
  },
  {
   "cell_type": "code",
   "execution_count": 10,
   "id": "b09140fe-3396-4597-aa25-09fae8b506aa",
   "metadata": {},
   "outputs": [],
   "source": [
    "# 모델 학습\n",
    "model_dtr_bin = dtr_bin.fit(X_train, y_train)"
   ]
  },
  {
   "cell_type": "code",
   "execution_count": 12,
   "id": "57a3ca9d-7b2d-461a-8bb2-fd8f84f52453",
   "metadata": {},
   "outputs": [
    {
     "name": "stdout",
     "output_type": "stream",
     "text": [
      "0.999834656084656\n"
     ]
    }
   ],
   "source": [
    "# ROC\n",
    "from sklearn.metrics import roc_curve, auc\n",
    "y_score = model_dtr_bin.predict_proba(X_test)[:,1]\n",
    "fpr, tpr, thresholds = roc_curve(y_test, y_score)\n",
    "\n",
    "# AUC\n",
    "AUC = auc(fpr, tpr)\n",
    "print(AUC)"
   ]
  },
  {
   "cell_type": "markdown",
   "id": "faebbdf0-81b2-40db-9271-b308f8bd3423",
   "metadata": {},
   "source": [
    "# 랜덤포레스트"
   ]
  },
  {
   "cell_type": "code",
   "execution_count": 14,
   "id": "779e0681-3d6f-4f96-92ad-946297b5eb94",
   "metadata": {},
   "outputs": [],
   "source": [
    "# 패키지에서 클래스와 함수 호출\n",
    "from sklearn.ensemble import RandomForestClassifier\n",
    "from sklearn.model_selection import train_test_split"
   ]
  },
  {
   "cell_type": "code",
   "execution_count": 15,
   "id": "81c945c7-d9aa-4c0c-bf3f-57234543f438",
   "metadata": {},
   "outputs": [],
   "source": [
    "# breast_cancer 데이터셋 호출\n",
    "from sklearn.datasets import load_breast_cancer\n",
    "breast_cancer = load_breast_cancer()\n",
    "data = breast_cancer.data\n",
    "target = breast_cancer.target"
   ]
  },
  {
   "cell_type": "code",
   "execution_count": 16,
   "id": "6fd7a5e2-796b-4bde-870d-d2610a7b9b12",
   "metadata": {},
   "outputs": [],
   "source": [
    "# 데이터 분할\n",
    "X_train, X_test, y_train, y_test = train_test_split(data, target, test_size = 0.2, random_state = 2205, stratify = target)"
   ]
  },
  {
   "cell_type": "code",
   "execution_count": 19,
   "id": "0467c083-64ff-4632-8bd9-168934701a2e",
   "metadata": {},
   "outputs": [],
   "source": [
    "# 모형객체 생성\n",
    "rf_bin = RandomForestClassifier(n_estimators = 500, max_depth = 3, min_samples_leaf = 10, max_features = 'sqrt', random_state = 2022)"
   ]
  },
  {
   "cell_type": "code",
   "execution_count": 21,
   "id": "fcedfcb5-e29b-4bb4-8fda-df579039fdda",
   "metadata": {},
   "outputs": [],
   "source": [
    "# 모델 학습\n",
    "model_rf_bin = rf_bin.fit(X_train, y_train)"
   ]
  },
  {
   "cell_type": "code",
   "execution_count": 23,
   "id": "bd406510-d32f-486a-b472-09d5b755a37e",
   "metadata": {},
   "outputs": [
    {
     "name": "stdout",
     "output_type": "stream",
     "text": [
      "0.9996693121693121\n"
     ]
    }
   ],
   "source": [
    "# ROC\n",
    "from sklearn.metrics import roc_curve, auc\n",
    "y_score = model_rf_bin.predict_proba(X_test)[:,1]\n",
    "fpr, tpr, thresholds = roc_curve(y_test, y_score)\n",
    "\n",
    "# AUE\n",
    "AUC = auc(fpr, tpr)\n",
    "print(AUC)"
   ]
  },
  {
   "cell_type": "code",
   "execution_count": null,
   "id": "686d3f16-26fc-420a-abae-0f4024b2e9ee",
   "metadata": {},
   "outputs": [],
   "source": []
  }
 ],
 "metadata": {
  "kernelspec": {
   "display_name": "Python 3 (ipykernel)",
   "language": "python",
   "name": "python3"
  },
  "language_info": {
   "codemirror_mode": {
    "name": "ipython",
    "version": 3
   },
   "file_extension": ".py",
   "mimetype": "text/x-python",
   "name": "python",
   "nbconvert_exporter": "python",
   "pygments_lexer": "ipython3",
   "version": "3.9.12"
  }
 },
 "nbformat": 4,
 "nbformat_minor": 5
}
