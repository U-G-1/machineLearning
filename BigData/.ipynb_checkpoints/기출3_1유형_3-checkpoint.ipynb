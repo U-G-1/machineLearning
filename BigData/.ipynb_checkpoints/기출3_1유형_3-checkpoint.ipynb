{
 "cells": [
  {
   "cell_type": "markdown",
   "id": "0b6e8e12-0b1e-415c-b5bd-e2bc8fecf9ca",
   "metadata": {},
   "source": [
    "##### 03. msleep 데이터셋을 불러와 가장 결측치가 많은 컬럼의 이름을 출력하라."
   ]
  },
  {
   "cell_type": "code",
   "execution_count": 3,
   "id": "10e12b0c-9680-4059-a5cd-c39610b046b1",
   "metadata": {},
   "outputs": [
    {
     "name": "stdout",
     "output_type": "stream",
     "text": [
      "sleep_cycle\n"
     ]
    }
   ],
   "source": [
    "import pandas as pd\n",
    "\n",
    "df = pd.read_csv('/Users/ryujiwon/Desktop/BigData/data/기출복원/03회/msleep.csv')\n",
    "\n",
    "col_na = df.isnull().sum()\n",
    "\n",
    "# ***********\n",
    "result = col_na.idxmax()\n",
    "print(result)"
   ]
  },
  {
   "cell_type": "code",
   "execution_count": null,
   "id": "6cedc9a7-0ddb-4bf0-a72d-19e48e3c3da2",
   "metadata": {},
   "outputs": [],
   "source": []
  }
 ],
 "metadata": {
  "kernelspec": {
   "display_name": "Python 3 (ipykernel)",
   "language": "python",
   "name": "python3"
  },
  "language_info": {
   "codemirror_mode": {
    "name": "ipython",
    "version": 3
   },
   "file_extension": ".py",
   "mimetype": "text/x-python",
   "name": "python",
   "nbconvert_exporter": "python",
   "pygments_lexer": "ipython3",
   "version": "3.9.12"
  }
 },
 "nbformat": 4,
 "nbformat_minor": 5
}
