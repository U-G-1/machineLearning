{
 "cells": [
  {
   "cell_type": "markdown",
   "id": "7570cc83-978e-4c3d-8f5a-030c27248f64",
   "metadata": {},
   "source": [
    "##### 02. Hitters 데이터셋을 불러와 Years 컬럼이 10인 데이터만 추출하여 HmRun 컬럼이 평균보다 큰 선수가 몇 명인지 계산하여라."
   ]
  },
  {
   "cell_type": "code",
   "execution_count": null,
   "id": "75c35852-ea24-4c1b-ad76-a897668994c4",
   "metadata": {},
   "outputs": [],
   "source": []
  }
 ],
 "metadata": {
  "kernelspec": {
   "display_name": "Python 3 (ipykernel)",
   "language": "python",
   "name": "python3"
  },
  "language_info": {
   "codemirror_mode": {
    "name": "ipython",
    "version": 3
   },
   "file_extension": ".py",
   "mimetype": "text/x-python",
   "name": "python",
   "nbconvert_exporter": "python",
   "pygments_lexer": "ipython3",
   "version": "3.9.12"
  }
 },
 "nbformat": 4,
 "nbformat_minor": 5
}
