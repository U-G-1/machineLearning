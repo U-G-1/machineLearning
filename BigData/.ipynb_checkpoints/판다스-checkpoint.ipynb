{
 "cells": [
  {
   "cell_type": "markdown",
   "id": "0956904d-36ac-4c3f-a2b4-cb65ab8595b1",
   "metadata": {},
   "source": [
    "# 시리즈와 데이터프레임"
   ]
  },
  {
   "cell_type": "code",
   "execution_count": 1,
   "id": "da3e0d11-9543-479b-a714-0ff26e99d170",
   "metadata": {},
   "outputs": [],
   "source": [
    "import pandas as pd\n",
    "import numpy as np"
   ]
  },
  {
   "cell_type": "code",
   "execution_count": null,
   "id": "15aa434a-adee-4bc8-874c-6eb3bb2a1af1",
   "metadata": {},
   "outputs": [],
   "source": []
  }
 ],
 "metadata": {
  "kernelspec": {
   "display_name": "Python 3 (ipykernel)",
   "language": "python",
   "name": "python3"
  },
  "language_info": {
   "codemirror_mode": {
    "name": "ipython",
    "version": 3
   },
   "file_extension": ".py",
   "mimetype": "text/x-python",
   "name": "python",
   "nbconvert_exporter": "python",
   "pygments_lexer": "ipython3",
   "version": "3.9.12"
  }
 },
 "nbformat": 4,
 "nbformat_minor": 5
}
