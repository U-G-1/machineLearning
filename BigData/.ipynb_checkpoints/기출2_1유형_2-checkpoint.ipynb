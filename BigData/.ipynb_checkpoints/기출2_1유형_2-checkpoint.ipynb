{
 "cells": [
  {
   "cell_type": "markdown",
   "id": "9d1907d8-c387-4c41-a9f2-67d5c3b8f467",
   "metadata": {},
   "source": [
    "##### 02. 앞의 데이터셋(matcars2)을 불러와 첫번쨰 행부터 순서대로 80%까지의 데이터를 훈련 데이터로 추출한 후 disp 컬럼의 결측값을 disp 컬럼의 중앙값으로 대체하고 대체 전 후의 disp 변수의 표준편차 값의 차이를 구하여라. (단, 차이는 빼는 순서와 관계없이 절댓값을 취하여 표시하여라)"
   ]
  },
  {
   "cell_type": "code",
   "execution_count": 1,
   "id": "293b7281-bf27-4316-9b06-4b6a8685e64c",
   "metadata": {},
   "outputs": [],
   "source": [
    "import pandas as pd"
   ]
  },
  {
   "cell_type": "code",
   "execution_count": 2,
   "id": "199fa1bd-4989-4d4f-94b0-f126afa0140a",
   "metadata": {},
   "outputs": [],
   "source": [
    "import numpy as np"
   ]
  },
  {
   "cell_type": "code",
   "execution_count": 3,
   "id": "99e99e63-6a98-4754-9f20-5f96e668258c",
   "metadata": {},
   "outputs": [],
   "source": [
    "data = pd.read_csv('/Users/ryujiwon/Desktop/BigData/data/기출복원/02회/mtcars2.csv')"
   ]
  },
  {
   "cell_type": "code",
   "execution_count": 4,
   "id": "8a3d7a85-4eed-4cf5-a98c-f190438fefd4",
   "metadata": {},
   "outputs": [
    {
     "data": {
      "text/html": [
       "<div>\n",
       "<style scoped>\n",
       "    .dataframe tbody tr th:only-of-type {\n",
       "        vertical-align: middle;\n",
       "    }\n",
       "\n",
       "    .dataframe tbody tr th {\n",
       "        vertical-align: top;\n",
       "    }\n",
       "\n",
       "    .dataframe thead th {\n",
       "        text-align: right;\n",
       "    }\n",
       "</style>\n",
       "<table border=\"1\" class=\"dataframe\">\n",
       "  <thead>\n",
       "    <tr style=\"text-align: right;\">\n",
       "      <th></th>\n",
       "      <th>mpg</th>\n",
       "      <th>cyl</th>\n",
       "      <th>disp</th>\n",
       "      <th>hp</th>\n",
       "      <th>drat</th>\n",
       "      <th>wt</th>\n",
       "      <th>qsec</th>\n",
       "      <th>vs</th>\n",
       "      <th>am</th>\n",
       "      <th>gear</th>\n",
       "      <th>carb</th>\n",
       "    </tr>\n",
       "  </thead>\n",
       "  <tbody>\n",
       "    <tr>\n",
       "      <th>0</th>\n",
       "      <td>21.0</td>\n",
       "      <td>6</td>\n",
       "      <td>160.0</td>\n",
       "      <td>110</td>\n",
       "      <td>3.90</td>\n",
       "      <td>2.620</td>\n",
       "      <td>16.46</td>\n",
       "      <td>0</td>\n",
       "      <td>1</td>\n",
       "      <td>4</td>\n",
       "      <td>4</td>\n",
       "    </tr>\n",
       "    <tr>\n",
       "      <th>1</th>\n",
       "      <td>21.0</td>\n",
       "      <td>6</td>\n",
       "      <td>160.0</td>\n",
       "      <td>110</td>\n",
       "      <td>3.90</td>\n",
       "      <td>2.875</td>\n",
       "      <td>17.02</td>\n",
       "      <td>0</td>\n",
       "      <td>1</td>\n",
       "      <td>4</td>\n",
       "      <td>4</td>\n",
       "    </tr>\n",
       "    <tr>\n",
       "      <th>2</th>\n",
       "      <td>22.8</td>\n",
       "      <td>4</td>\n",
       "      <td>108.0</td>\n",
       "      <td>93</td>\n",
       "      <td>3.85</td>\n",
       "      <td>2.320</td>\n",
       "      <td>18.61</td>\n",
       "      <td>1</td>\n",
       "      <td>1</td>\n",
       "      <td>4</td>\n",
       "      <td>1</td>\n",
       "    </tr>\n",
       "    <tr>\n",
       "      <th>3</th>\n",
       "      <td>21.4</td>\n",
       "      <td>6</td>\n",
       "      <td>258.0</td>\n",
       "      <td>110</td>\n",
       "      <td>3.08</td>\n",
       "      <td>3.215</td>\n",
       "      <td>19.44</td>\n",
       "      <td>1</td>\n",
       "      <td>0</td>\n",
       "      <td>3</td>\n",
       "      <td>1</td>\n",
       "    </tr>\n",
       "    <tr>\n",
       "      <th>4</th>\n",
       "      <td>18.7</td>\n",
       "      <td>8</td>\n",
       "      <td>NaN</td>\n",
       "      <td>175</td>\n",
       "      <td>3.15</td>\n",
       "      <td>3.440</td>\n",
       "      <td>17.02</td>\n",
       "      <td>0</td>\n",
       "      <td>0</td>\n",
       "      <td>3</td>\n",
       "      <td>2</td>\n",
       "    </tr>\n",
       "  </tbody>\n",
       "</table>\n",
       "</div>"
      ],
      "text/plain": [
       "    mpg  cyl   disp   hp  drat     wt   qsec  vs  am  gear  carb\n",
       "0  21.0    6  160.0  110  3.90  2.620  16.46   0   1     4     4\n",
       "1  21.0    6  160.0  110  3.90  2.875  17.02   0   1     4     4\n",
       "2  22.8    4  108.0   93  3.85  2.320  18.61   1   1     4     1\n",
       "3  21.4    6  258.0  110  3.08  3.215  19.44   1   0     3     1\n",
       "4  18.7    8    NaN  175  3.15  3.440  17.02   0   0     3     2"
      ]
     },
     "execution_count": 4,
     "metadata": {},
     "output_type": "execute_result"
    }
   ],
   "source": [
    "data.head()"
   ]
  },
  {
   "cell_type": "code",
   "execution_count": 5,
   "id": "f01801ba-9989-44f2-838d-7fac58a218d8",
   "metadata": {},
   "outputs": [],
   "source": [
    "# *********첫번째 행부터 80% 훈련 데이터로 추출*********\n",
    "idx80 = np.floor(data.shape[0] * 0.8).astype('int')\n",
    "data = data[:idx80]"
   ]
  },
  {
   "cell_type": "code",
   "execution_count": 6,
   "id": "539967ab-1a6e-48e6-a5d8-e752144d778c",
   "metadata": {},
   "outputs": [],
   "source": [
    "# disp 컬럼의 결측값을 중앙값으로 대체\n",
    "data2 = data.copy()\n",
    "data['disp'] = data['disp'].fillna(data['disp'].median())"
   ]
  },
  {
   "cell_type": "code",
   "execution_count": 7,
   "id": "7bf1c0cf-69b3-4f20-824d-d907b5d49ed5",
   "metadata": {},
   "outputs": [],
   "source": [
    "# 대체 전 후의 표준편차 값의 차이를 구한다.\n",
    "\n",
    "# 원 데이터의 표준편차 data2\n",
    "be_std = data2['disp'].std()\n",
    "# 후 데이터의 표준편차 data\n",
    "af_std = data['disp'].std()\n",
    "#차이 절댓값으로"
   ]
  },
  {
   "cell_type": "code",
   "execution_count": 8,
   "id": "909db156-8bcd-4270-aa42-f54928fe1c89",
   "metadata": {},
   "outputs": [
    {
     "data": {
      "text/plain": [
       "111.2287398626298"
      ]
     },
     "execution_count": 8,
     "metadata": {},
     "output_type": "execute_result"
    }
   ],
   "source": [
    "be_std"
   ]
  },
  {
   "cell_type": "code",
   "execution_count": 9,
   "id": "ba33f26e-b3fc-443d-8acd-c9d659a053a7",
   "metadata": {},
   "outputs": [
    {
     "data": {
      "text/plain": [
       "103.2631044145649"
      ]
     },
     "execution_count": 9,
     "metadata": {},
     "output_type": "execute_result"
    }
   ],
   "source": [
    "af_std"
   ]
  },
  {
   "cell_type": "code",
   "execution_count": 11,
   "id": "57ea44bf-b3e1-46bb-994d-0875e372dd2b",
   "metadata": {},
   "outputs": [
    {
     "name": "stdout",
     "output_type": "stream",
     "text": [
      "7.966\n"
     ]
    }
   ],
   "source": [
    "result = round(be_std - af_std, 3)\n",
    "print(result)"
   ]
  },
  {
   "cell_type": "code",
   "execution_count": null,
   "id": "e88f1ec6-b907-42bd-ae60-92a92c702aee",
   "metadata": {},
   "outputs": [],
   "source": []
  }
 ],
 "metadata": {
  "kernelspec": {
   "display_name": "Python 3 (ipykernel)",
   "language": "python",
   "name": "python3"
  },
  "language_info": {
   "codemirror_mode": {
    "name": "ipython",
    "version": 3
   },
   "file_extension": ".py",
   "mimetype": "text/x-python",
   "name": "python",
   "nbconvert_exporter": "python",
   "pygments_lexer": "ipython3",
   "version": "3.9.12"
  }
 },
 "nbformat": 4,
 "nbformat_minor": 5
}
