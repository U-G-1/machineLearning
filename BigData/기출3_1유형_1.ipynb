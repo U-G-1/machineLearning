{
 "cells": [
  {
   "cell_type": "markdown",
   "id": "023c66a9-b6a0-4dc4-8dcd-8be810851315",
   "metadata": {},
   "source": [
    "##### 01. economics 데이터셋을 불러와 첫 번째 행부터 순서대로 70%까지의 데이터 를 훈련 데이터로 추출한 후 pce 컬럼의 제 1사분위수를 구하여라. (단, 정수로 나타낼 것)"
   ]
  },
  {
   "cell_type": "code",
   "execution_count": 1,
   "id": "6088dca3-b0fc-4b1f-b3d0-4f2c7670f194",
   "metadata": {},
   "outputs": [],
   "source": [
    "import pandas as pd\n",
    "import numpy as np"
   ]
  },
  {
   "cell_type": "code",
   "execution_count": 2,
   "id": "dfdb24f7-b4fc-49ac-bea8-22f56583f367",
   "metadata": {},
   "outputs": [],
   "source": [
    "df = pd.read_csv('/Users/ryujiwon/Desktop/BigData/data/기출복원/03회/economics.csv')"
   ]
  },
  {
   "cell_type": "code",
   "execution_count": 3,
   "id": "aa3ee15e-1a22-4799-8497-9dec20126c5d",
   "metadata": {},
   "outputs": [],
   "source": [
    "idx70 = np.floor(df.shape[0] * 0.7).astype('int')\n",
    "\n",
    "test = df[:idx70]"
   ]
  },
  {
   "cell_type": "code",
   "execution_count": 8,
   "id": "d87503f6-cf33-4526-98a0-cf6193d7da4c",
   "metadata": {},
   "outputs": [],
   "source": [
    "pce = test['pce']\n",
    "result = pce.quantile(.25).astype('int')"
   ]
  },
  {
   "cell_type": "code",
   "execution_count": 9,
   "id": "5d984ddd-7a9d-42d0-a542-3440336f12ba",
   "metadata": {},
   "outputs": [
    {
     "data": {
      "text/plain": [
       "count     401.000000\n",
       "mean     2785.756608\n",
       "std      1841.548085\n",
       "min       506.700000\n",
       "25%      1075.800000\n",
       "50%      2431.600000\n",
       "75%      4204.800000\n",
       "max      6902.400000\n",
       "Name: pce, dtype: float64"
      ]
     },
     "execution_count": 9,
     "metadata": {},
     "output_type": "execute_result"
    }
   ],
   "source": [
    "pce.describe()"
   ]
  },
  {
   "cell_type": "code",
   "execution_count": 10,
   "id": "c9bf001d-984b-450e-aa32-798a4b73bc5c",
   "metadata": {},
   "outputs": [
    {
     "name": "stdout",
     "output_type": "stream",
     "text": [
      "1075\n"
     ]
    }
   ],
   "source": [
    "print(result)"
   ]
  },
  {
   "cell_type": "code",
   "execution_count": null,
   "id": "43fee452-c145-4580-9362-3d48257d517b",
   "metadata": {},
   "outputs": [],
   "source": []
  }
 ],
 "metadata": {
  "kernelspec": {
   "display_name": "Python 3 (ipykernel)",
   "language": "python",
   "name": "python3"
  },
  "language_info": {
   "codemirror_mode": {
    "name": "ipython",
    "version": 3
   },
   "file_extension": ".py",
   "mimetype": "text/x-python",
   "name": "python",
   "nbconvert_exporter": "python",
   "pygments_lexer": "ipython3",
   "version": "3.9.12"
  }
 },
 "nbformat": 4,
 "nbformat_minor": 5
}
