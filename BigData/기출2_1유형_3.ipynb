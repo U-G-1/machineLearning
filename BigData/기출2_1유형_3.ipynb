{
 "cells": [
  {
   "cell_type": "markdown",
   "id": "bdef2d66-53e9-4dae-8681-a6921d1f1bcd",
   "metadata": {},
   "source": [
    "##### gehan 데이터셋을 불러와 time 컬럼에서 이상값의 합을 구하여라. (단, 이상값은 1.5 표준편차 이상으로 벗어난 값으로 정의함)"
   ]
  },
  {
   "cell_type": "code",
   "execution_count": 1,
   "id": "1303a4b2-0717-4027-9f69-483d3c29305c",
   "metadata": {},
   "outputs": [],
   "source": [
    "import pandas as pd"
   ]
  },
  {
   "cell_type": "code",
   "execution_count": 2,
   "id": "95d7774a-0c51-4631-a15d-f96deaea5499",
   "metadata": {},
   "outputs": [],
   "source": [
    "data = pd.read_csv('/Users/ryujiwon/Desktop/BigData/data/기출복원/02회/gehan.csv')"
   ]
  },
  {
   "cell_type": "code",
   "execution_count": 3,
   "id": "32113457-d686-4bf6-a2dc-009f2126924d",
   "metadata": {},
   "outputs": [],
   "source": [
    "time = data['time']"
   ]
  },
  {
   "cell_type": "code",
   "execution_count": 4,
   "id": "7c888aec-f229-4030-aa9b-f5ff84a7daa5",
   "metadata": {},
   "outputs": [],
   "source": [
    "# 표준편차 1.5구간 구하기\n",
    "Std = time.std()\n",
    "Mean = time.mean()"
   ]
  },
  {
   "cell_type": "code",
   "execution_count": 5,
   "id": "764f17f2-4c6f-4bf9-bc64-ea212346f65c",
   "metadata": {},
   "outputs": [
    {
     "name": "stdout",
     "output_type": "stream",
     "text": [
      "26.902199945818403 -1.1402951839136417\n"
     ]
    }
   ],
   "source": [
    "Upp = Mean + 1.5 * Std\n",
    "Low = Mean - 1.5 * Std\n",
    "\n",
    "print(Upp, Low)"
   ]
  },
  {
   "cell_type": "code",
   "execution_count": 6,
   "id": "3a1502a3-2364-486e-8d95-3f56d14d09bd",
   "metadata": {},
   "outputs": [
    {
     "data": {
      "text/plain": [
       "133"
      ]
     },
     "execution_count": 6,
     "metadata": {},
     "output_type": "execute_result"
    }
   ],
   "source": [
    "result = time[(time < Low) | (time > Upp)].sum()\n",
    "result"
   ]
  },
  {
   "cell_type": "code",
   "execution_count": null,
   "id": "2655c315-d0b9-41c3-ab18-929fe7cf3ef2",
   "metadata": {},
   "outputs": [],
   "source": []
  }
 ],
 "metadata": {
  "kernelspec": {
   "display_name": "Python 3 (ipykernel)",
   "language": "python",
   "name": "python3"
  },
  "language_info": {
   "codemirror_mode": {
    "name": "ipython",
    "version": 3
   },
   "file_extension": ".py",
   "mimetype": "text/x-python",
   "name": "python",
   "nbconvert_exporter": "python",
   "pygments_lexer": "ipython3",
   "version": "3.9.12"
  }
 },
 "nbformat": 4,
 "nbformat_minor": 5
}
