{
 "cells": [
  {
   "cell_type": "markdown",
   "id": "d811d377-7074-4391-ab66-a9f7672033ec",
   "metadata": {},
   "source": [
    "##### 02. Cars93 데이터셋의 Length 컬럼에 대해서 순위를 부여한 후, 1위부터 30위까지 값들의 표준편차를 구하고 소수점 셋째 자리까지 반올림하여 나타내어라. (단, 동점은 동일한 순위를 부여하되 평균내어 등수를 산정하며 최솟값을 1위로 함)"
   ]
  },
  {
   "cell_type": "code",
   "execution_count": 5,
   "id": "618f8d48-2459-4596-a8f0-63bd4fd5c4fe",
   "metadata": {},
   "outputs": [],
   "source": [
    "# 데이터 로드\n",
    "import pandas as pd\n",
    "Cars_data = pd.read_csv('/Users/ryujiwon/Desktop/BigData/data/practice/cars93.csv')"
   ]
  },
  {
   "cell_type": "code",
   "execution_count": 7,
   "id": "7bb54ccc-a530-418b-8090-b48a46a05d52",
   "metadata": {},
   "outputs": [],
   "source": [
    "Length = Cars_data['Length']"
   ]
  },
  {
   "cell_type": "code",
   "execution_count": 8,
   "id": "fe9bcb9b-7295-48f1-a029-5187336b83a1",
   "metadata": {},
   "outputs": [
    {
     "data": {
      "text/plain": [
       "0    177\n",
       "1    195\n",
       "2    180\n",
       "3    193\n",
       "4    186\n",
       "Name: Length, dtype: int64"
      ]
     },
     "execution_count": 8,
     "metadata": {},
     "output_type": "execute_result"
    }
   ],
   "source": [
    "Length.head()"
   ]
  },
  {
   "cell_type": "code",
   "execution_count": 2,
   "id": "4456145f-c7ed-4f88-bd0c-2015216c034a",
   "metadata": {},
   "outputs": [],
   "source": [
    "# Length 컬럼에 순위 부여\n"
   ]
  },
  {
   "cell_type": "code",
   "execution_count": 3,
   "id": "04b5fa5e-7a20-442f-98f9-5ea96caeb1cd",
   "metadata": {},
   "outputs": [],
   "source": [
    "# 1~30위 추출"
   ]
  },
  {
   "cell_type": "code",
   "execution_count": 4,
   "id": "00930506-5729-46fd-a24b-36c534000cfa",
   "metadata": {},
   "outputs": [],
   "source": [
    "# 값들의 표준편차 소수3자리까지 구하기"
   ]
  },
  {
   "cell_type": "code",
   "execution_count": null,
   "id": "c4b12313-6969-48a6-90ca-0b272a3e7d6a",
   "metadata": {},
   "outputs": [],
   "source": []
  }
 ],
 "metadata": {
  "kernelspec": {
   "display_name": "Python 3 (ipykernel)",
   "language": "python",
   "name": "python3"
  },
  "language_info": {
   "codemirror_mode": {
    "name": "ipython",
    "version": 3
   },
   "file_extension": ".py",
   "mimetype": "text/x-python",
   "name": "python",
   "nbconvert_exporter": "python",
   "pygments_lexer": "ipython3",
   "version": "3.9.12"
  }
 },
 "nbformat": 4,
 "nbformat_minor": 5
}
