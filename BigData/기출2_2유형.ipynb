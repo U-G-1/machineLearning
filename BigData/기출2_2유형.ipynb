{
 "cells": [
  {
   "cell_type": "markdown",
   "id": "ce52e91d-a7e1-4e33-a001-8eabfb0e9dce",
   "metadata": {},
   "source": [
    "##### 아래는 뇌졸중(stroke)에 대한 환자들의 임상적 변수에 관련한 데이터의 일부이다. 주어진 데이터를 이용하여 예측 모형을 만들고 아래에 따라 CSV 파일을 생성하시오. (단, 제출 전 두 개 이상의 모형의 성능을 비교하여 가장 우수한 모형을 선정할 것)\n",
    "\n",
    "1. stroke_y_train.csv : 뇌졸중 여부 데이터(학습용), csv 형식의 파일\n",
    "2. stroke_X_train.csv, stroke_X_test.csv : 뇌졸중에 대한 임상적 변수(학습용 및 평가용), csv 형식의 파일"
   ]
  },
  {
   "cell_type": "code",
   "execution_count": 1,
   "id": "e7226ce9-c751-491c-abcd-c3e5ede9afca",
   "metadata": {},
   "outputs": [],
   "source": [
    "# 1. 데이터셋 불러오기\n",
    "import pandas as pd\n",
    "X_train = pd.read_csv('/Users/ryujiwon/Desktop/BigData/data/기출복원/02회/stroke_X_train.csv')\n",
    "X_test = pd.read_csv('/Users/ryujiwon/Desktop/BigData/data/기출복원/02회/stroke_X_test.csv')\n",
    "y_train = pd.read_csv('/Users/ryujiwon/Desktop/BigData/data/기출복원/02회/stroke_y_train.csv')"
   ]
  },
  {
   "cell_type": "code",
   "execution_count": 2,
   "id": "444a9dc4-cacb-4022-b3c3-d25d1a169d3e",
   "metadata": {},
   "outputs": [
    {
     "name": "stdout",
     "output_type": "stream",
     "text": [
      "      id  gender   age  hypertension  heart_disease ever_married work_type  \\\n",
      "0    575    Male  13.0             0              0           No  children   \n",
      "1  60533  Female  23.0             0              0           No   Private   \n",
      "2  11935  Female   9.0             0              0           No  children   \n",
      "3  61291    Male  28.0             0              0          Yes   Private   \n",
      "4  64534  Female  25.0             0              0          Yes   Private   \n",
      "\n",
      "  Residence_type  avg_glucose_level   bmi smoking_status  \n",
      "0          Rural              98.65  20.1        Unknown  \n",
      "1          Rural              91.95  23.0        Unknown  \n",
      "2          Rural             110.97  17.7        Unknown  \n",
      "3          Rural             169.49  27.2        Unknown  \n",
      "4          Urban             104.66  23.9   never smoked  \n",
      "      id  gender   age  hypertension  heart_disease ever_married work_type  \\\n",
      "0  30669    Male   3.0             0              0           No  children   \n",
      "1  30468    Male  58.0             1              0          Yes   Private   \n",
      "2  56543  Female  70.0             0              0          Yes   Private   \n",
      "3  37893  Female  37.0             0              0          Yes   Private   \n",
      "4  72911  Female  57.0             1              0          Yes   Private   \n",
      "\n",
      "  Residence_type  avg_glucose_level   bmi   smoking_status  \n",
      "0          Rural              95.12  18.0          Unknown  \n",
      "1          Urban              87.96  39.2     never smoked  \n",
      "2          Rural              69.04  35.9  formerly smoked  \n",
      "3          Rural              73.50  26.1  formerly smoked  \n",
      "4          Rural             129.54  60.9           smokes  \n",
      "      id  stroke\n",
      "0    575       0\n",
      "1  60533       0\n",
      "2  11935       0\n",
      "3  61291       0\n",
      "4  64534       0\n",
      "<class 'pandas.core.frame.DataFrame'>\n",
      "RangeIndex: 4087 entries, 0 to 4086\n",
      "Data columns (total 11 columns):\n",
      " #   Column             Non-Null Count  Dtype  \n",
      "---  ------             --------------  -----  \n",
      " 0   id                 4087 non-null   int64  \n",
      " 1   gender             4087 non-null   object \n",
      " 2   age                4087 non-null   float64\n",
      " 3   hypertension       4087 non-null   int64  \n",
      " 4   heart_disease      4087 non-null   int64  \n",
      " 5   ever_married       4087 non-null   object \n",
      " 6   work_type          4087 non-null   object \n",
      " 7   Residence_type     4087 non-null   object \n",
      " 8   avg_glucose_level  4087 non-null   float64\n",
      " 9   bmi                3922 non-null   float64\n",
      " 10  smoking_status     4087 non-null   object \n",
      "dtypes: float64(3), int64(3), object(5)\n",
      "memory usage: 351.4+ KB\n",
      "None\n",
      "<class 'pandas.core.frame.DataFrame'>\n",
      "RangeIndex: 1022 entries, 0 to 1021\n",
      "Data columns (total 11 columns):\n",
      " #   Column             Non-Null Count  Dtype  \n",
      "---  ------             --------------  -----  \n",
      " 0   id                 1022 non-null   int64  \n",
      " 1   gender             1022 non-null   object \n",
      " 2   age                1022 non-null   float64\n",
      " 3   hypertension       1022 non-null   int64  \n",
      " 4   heart_disease      1022 non-null   int64  \n",
      " 5   ever_married       1022 non-null   object \n",
      " 6   work_type          1022 non-null   object \n",
      " 7   Residence_type     1022 non-null   object \n",
      " 8   avg_glucose_level  1022 non-null   float64\n",
      " 9   bmi                986 non-null    float64\n",
      " 10  smoking_status     1022 non-null   object \n",
      "dtypes: float64(3), int64(3), object(5)\n",
      "memory usage: 88.0+ KB\n",
      "None\n",
      "<class 'pandas.core.frame.DataFrame'>\n",
      "RangeIndex: 4087 entries, 0 to 4086\n",
      "Data columns (total 2 columns):\n",
      " #   Column  Non-Null Count  Dtype\n",
      "---  ------  --------------  -----\n",
      " 0   id      4087 non-null   int64\n",
      " 1   stroke  4087 non-null   int64\n",
      "dtypes: int64(2)\n",
      "memory usage: 64.0 KB\n",
      "None\n",
      "                 id          age  hypertension  heart_disease  \\\n",
      "count   4087.000000  4087.000000   4087.000000    4087.000000   \n",
      "mean   36713.444336    43.347208      0.098605       0.054808   \n",
      "std    21199.834409    22.550772      0.298168       0.227633   \n",
      "min       67.000000     0.080000      0.000000       0.000000   \n",
      "25%    18009.000000    25.000000      0.000000       0.000000   \n",
      "50%    37213.000000    45.000000      0.000000       0.000000   \n",
      "75%    54894.500000    61.000000      0.000000       0.000000   \n",
      "max    72940.000000    82.000000      1.000000       1.000000   \n",
      "\n",
      "       avg_glucose_level          bmi  \n",
      "count        4087.000000  3922.000000  \n",
      "mean          106.204267    28.911321  \n",
      "std            45.700703     7.852940  \n",
      "min            55.230000    10.300000  \n",
      "25%            76.905000    23.500000  \n",
      "50%            91.630000    28.100000  \n",
      "75%           114.125000    33.100000  \n",
      "max           271.740000    92.000000  \n",
      "                 id          age  hypertension  heart_disease  \\\n",
      "count   1022.000000  1022.000000   1022.000000    1022.000000   \n",
      "mean   35716.345401    42.761213      0.092955       0.050881   \n",
      "std    21001.441450    22.868126      0.290512       0.219862   \n",
      "min       84.000000     0.160000      0.000000       0.000000   \n",
      "25%    16820.750000    25.000000      0.000000       0.000000   \n",
      "50%    35166.500000    43.000000      0.000000       0.000000   \n",
      "75%    53243.250000    60.000000      0.000000       0.000000   \n",
      "max    72911.000000    82.000000      1.000000       1.000000   \n",
      "\n",
      "       avg_glucose_level         bmi  \n",
      "count        1022.000000  986.000000  \n",
      "mean          105.884990   28.827890  \n",
      "std            43.603825    7.863441  \n",
      "min            55.120000   12.300000  \n",
      "25%            77.935000   23.700000  \n",
      "50%            92.465000   27.900000  \n",
      "75%           113.837500   33.100000  \n",
      "max           266.590000   97.600000  \n",
      "                 id       stroke\n",
      "count   4087.000000  4087.000000\n",
      "mean   36713.444336     0.048691\n",
      "std    21199.834409     0.215248\n",
      "min       67.000000     0.000000\n",
      "25%    18009.000000     0.000000\n",
      "50%    37213.000000     0.000000\n",
      "75%    54894.500000     0.000000\n",
      "max    72940.000000     1.000000\n"
     ]
    }
   ],
   "source": [
    "# 2. 데이터셋 확인하기\n",
    "\n",
    "# 데이터셋 일부 확인\n",
    "print(X_train.head())\n",
    "print(X_test.head())\n",
    "print(y_train.head())\n",
    "\n",
    "# 데이터셋 요약 정보 확인\n",
    "print(X_train.info())\n",
    "print(X_test.info())\n",
    "print(y_train.info())\n",
    "\n",
    "# 기초통계량 확인\n",
    "print(X_train.describe())\n",
    "print(X_test.describe())\n",
    "print(y_train.describe())"
   ]
  },
  {
   "cell_type": "code",
   "execution_count": 3,
   "id": "a4a8b591-81bc-47d9-804b-132259ba616d",
   "metadata": {},
   "outputs": [],
   "source": [
    "# 3. 데이터셋 전처리\n",
    "\n",
    "# 불필요한 컬럼 삭제\n",
    "# 결과 제출시에는 X_test의 id 컬럼이 필요하기 때문에 별도 저장\n",
    "ID = X_test['id'].copy()\n",
    "\n",
    "# 데이터들에서 id 컬럼 삭제\n",
    "X_train = X_train.drop(columns = 'id')\n",
    "X_test = X_test.drop(columns = 'id')\n",
    "y_train = y_train.drop(columns = 'id')"
   ]
  },
  {
   "cell_type": "code",
   "execution_count": 4,
   "id": "9a4ca60e-6ad4-4aa8-9887-dbbb9bc553ab",
   "metadata": {},
   "outputs": [
    {
     "data": {
      "text/plain": [
       "gender                 0\n",
       "age                    0\n",
       "hypertension           0\n",
       "heart_disease          0\n",
       "ever_married           0\n",
       "work_type              0\n",
       "Residence_type         0\n",
       "avg_glucose_level      0\n",
       "bmi                  165\n",
       "smoking_status         0\n",
       "dtype: int64"
      ]
     },
     "execution_count": 4,
     "metadata": {},
     "output_type": "execute_result"
    }
   ],
   "source": [
    "# 결측치 처리\n",
    "X_train.isna().sum()"
   ]
  },
  {
   "cell_type": "code",
   "execution_count": 5,
   "id": "83e2f2a5-168a-40e3-83b8-6be8acb0f09f",
   "metadata": {},
   "outputs": [],
   "source": [
    "# bmi 컬럼 평균값 대치\n",
    "avg_bmi = X_train['bmi'].mean()"
   ]
  },
  {
   "cell_type": "code",
   "execution_count": 6,
   "id": "660c6b71-aaca-4b67-ba7b-2a3bfce96696",
   "metadata": {},
   "outputs": [],
   "source": [
    "X_train['bmi'] = X_train['bmi'].fillna(avg_bmi)\n",
    "X_test['bmi'] = X_test['bmi'].fillna(avg_bmi)"
   ]
  },
  {
   "cell_type": "code",
   "execution_count": 7,
   "id": "20ba06d3-2e13-4119-a22d-80b0db78e553",
   "metadata": {},
   "outputs": [],
   "source": [
    "# smoking_status 컬럼 삭제\n",
    "X_train = X_train.drop('smoking_status', axis = 1)\n",
    "X_test = X_test.drop('smoking_status', axis = 1)"
   ]
  },
  {
   "cell_type": "code",
   "execution_count": 8,
   "id": "332f64c8-45c7-4c55-b712-c2dec142afdb",
   "metadata": {},
   "outputs": [],
   "source": [
    "# 수치형 컬럼 전처리\n",
    "# "
   ]
  },
  {
   "cell_type": "code",
   "execution_count": 9,
   "id": "ab611f1d-196e-4dcd-a4f8-7a82d9b1da85",
   "metadata": {},
   "outputs": [],
   "source": [
    "# ********데이터 분할***********\n",
    "# 라이브러리 불러오기\n",
    "from sklearn.model_selection import train_test_split\n",
    "# 학습용과 검증용 분할 \n",
    "X_TRAIN, X_VAL, y_TRAIN, y_VAL = train_test_split(X_train, y_train, random_state=1234,test_size = 0.2)"
   ]
  },
  {
   "cell_type": "code",
   "execution_count": 10,
   "id": "664263d5-a320-4734-81d0-38bda71b2ae8",
   "metadata": {},
   "outputs": [
    {
     "name": "stdout",
     "output_type": "stream",
     "text": [
      "(3269, 9)\n",
      "(818, 9)\n",
      "(3269, 1)\n",
      "(818, 1)\n"
     ]
    }
   ],
   "source": [
    "#  분할 후 shape 확인\n",
    "print(X_TRAIN.shape)\n",
    "print(X_VAL.shape)\n",
    "print(y_TRAIN.shape)\n",
    "print(y_VAL.shape)"
   ]
  },
  {
   "cell_type": "code",
   "execution_count": 11,
   "id": "e961004f-f2bf-468c-b86d-c2b23bb173c1",
   "metadata": {},
   "outputs": [],
   "source": [
    "# 인코딩\n"
   ]
  },
  {
   "cell_type": "code",
   "execution_count": 12,
   "id": "877aa1e8-dc0f-4953-aaa6-929db0e28eeb",
   "metadata": {},
   "outputs": [],
   "source": [
    "from sklearn.ensemble import RandomForestClassifier"
   ]
  },
  {
   "cell_type": "code",
   "execution_count": 16,
   "id": "c51cfeb4-941c-41dc-8bd0-ac067d51b7a9",
   "metadata": {},
   "outputs": [],
   "source": [
    "rf = RandomForestClassifier(max_depth = 8)\n"
   ]
  },
  {
   "cell_type": "code",
   "execution_count": 17,
   "id": "98926647-9459-4fb5-9a14-fc11e0237a97",
   "metadata": {},
   "outputs": [
    {
     "ename": "ValueError",
     "evalue": "could not convert string to float: 'Female'",
     "output_type": "error",
     "traceback": [
      "\u001b[0;31m---------------------------------------------------------------------------\u001b[0m",
      "\u001b[0;31mValueError\u001b[0m                                Traceback (most recent call last)",
      "Input \u001b[0;32mIn [17]\u001b[0m, in \u001b[0;36m<cell line: 1>\u001b[0;34m()\u001b[0m\n\u001b[0;32m----> 1\u001b[0m model_rf \u001b[38;5;241m=\u001b[39m \u001b[43mrf\u001b[49m\u001b[38;5;241;43m.\u001b[39;49m\u001b[43mfit\u001b[49m\u001b[43m(\u001b[49m\u001b[43mX_TRAIN\u001b[49m\u001b[43m,\u001b[49m\u001b[43my_TRAIN\u001b[49m\u001b[43m)\u001b[49m\n",
      "File \u001b[0;32m~/opt/anaconda3/lib/python3.9/site-packages/sklearn/ensemble/_forest.py:327\u001b[0m, in \u001b[0;36mBaseForest.fit\u001b[0;34m(self, X, y, sample_weight)\u001b[0m\n\u001b[1;32m    325\u001b[0m \u001b[38;5;28;01mif\u001b[39;00m issparse(y):\n\u001b[1;32m    326\u001b[0m     \u001b[38;5;28;01mraise\u001b[39;00m \u001b[38;5;167;01mValueError\u001b[39;00m(\u001b[38;5;124m\"\u001b[39m\u001b[38;5;124msparse multilabel-indicator for y is not supported.\u001b[39m\u001b[38;5;124m\"\u001b[39m)\n\u001b[0;32m--> 327\u001b[0m X, y \u001b[38;5;241m=\u001b[39m \u001b[38;5;28;43mself\u001b[39;49m\u001b[38;5;241;43m.\u001b[39;49m\u001b[43m_validate_data\u001b[49m\u001b[43m(\u001b[49m\n\u001b[1;32m    328\u001b[0m \u001b[43m    \u001b[49m\u001b[43mX\u001b[49m\u001b[43m,\u001b[49m\u001b[43m \u001b[49m\u001b[43my\u001b[49m\u001b[43m,\u001b[49m\u001b[43m \u001b[49m\u001b[43mmulti_output\u001b[49m\u001b[38;5;241;43m=\u001b[39;49m\u001b[38;5;28;43;01mTrue\u001b[39;49;00m\u001b[43m,\u001b[49m\u001b[43m \u001b[49m\u001b[43maccept_sparse\u001b[49m\u001b[38;5;241;43m=\u001b[39;49m\u001b[38;5;124;43m\"\u001b[39;49m\u001b[38;5;124;43mcsc\u001b[39;49m\u001b[38;5;124;43m\"\u001b[39;49m\u001b[43m,\u001b[49m\u001b[43m \u001b[49m\u001b[43mdtype\u001b[49m\u001b[38;5;241;43m=\u001b[39;49m\u001b[43mDTYPE\u001b[49m\n\u001b[1;32m    329\u001b[0m \u001b[43m\u001b[49m\u001b[43m)\u001b[49m\n\u001b[1;32m    330\u001b[0m \u001b[38;5;28;01mif\u001b[39;00m sample_weight \u001b[38;5;129;01mis\u001b[39;00m \u001b[38;5;129;01mnot\u001b[39;00m \u001b[38;5;28;01mNone\u001b[39;00m:\n\u001b[1;32m    331\u001b[0m     sample_weight \u001b[38;5;241m=\u001b[39m _check_sample_weight(sample_weight, X)\n",
      "File \u001b[0;32m~/opt/anaconda3/lib/python3.9/site-packages/sklearn/base.py:581\u001b[0m, in \u001b[0;36mBaseEstimator._validate_data\u001b[0;34m(self, X, y, reset, validate_separately, **check_params)\u001b[0m\n\u001b[1;32m    579\u001b[0m         y \u001b[38;5;241m=\u001b[39m check_array(y, \u001b[38;5;241m*\u001b[39m\u001b[38;5;241m*\u001b[39mcheck_y_params)\n\u001b[1;32m    580\u001b[0m     \u001b[38;5;28;01melse\u001b[39;00m:\n\u001b[0;32m--> 581\u001b[0m         X, y \u001b[38;5;241m=\u001b[39m \u001b[43mcheck_X_y\u001b[49m\u001b[43m(\u001b[49m\u001b[43mX\u001b[49m\u001b[43m,\u001b[49m\u001b[43m \u001b[49m\u001b[43my\u001b[49m\u001b[43m,\u001b[49m\u001b[43m \u001b[49m\u001b[38;5;241;43m*\u001b[39;49m\u001b[38;5;241;43m*\u001b[39;49m\u001b[43mcheck_params\u001b[49m\u001b[43m)\u001b[49m\n\u001b[1;32m    582\u001b[0m     out \u001b[38;5;241m=\u001b[39m X, y\n\u001b[1;32m    584\u001b[0m \u001b[38;5;28;01mif\u001b[39;00m \u001b[38;5;129;01mnot\u001b[39;00m no_val_X \u001b[38;5;129;01mand\u001b[39;00m check_params\u001b[38;5;241m.\u001b[39mget(\u001b[38;5;124m\"\u001b[39m\u001b[38;5;124mensure_2d\u001b[39m\u001b[38;5;124m\"\u001b[39m, \u001b[38;5;28;01mTrue\u001b[39;00m):\n",
      "File \u001b[0;32m~/opt/anaconda3/lib/python3.9/site-packages/sklearn/utils/validation.py:964\u001b[0m, in \u001b[0;36mcheck_X_y\u001b[0;34m(X, y, accept_sparse, accept_large_sparse, dtype, order, copy, force_all_finite, ensure_2d, allow_nd, multi_output, ensure_min_samples, ensure_min_features, y_numeric, estimator)\u001b[0m\n\u001b[1;32m    961\u001b[0m \u001b[38;5;28;01mif\u001b[39;00m y \u001b[38;5;129;01mis\u001b[39;00m \u001b[38;5;28;01mNone\u001b[39;00m:\n\u001b[1;32m    962\u001b[0m     \u001b[38;5;28;01mraise\u001b[39;00m \u001b[38;5;167;01mValueError\u001b[39;00m(\u001b[38;5;124m\"\u001b[39m\u001b[38;5;124my cannot be None\u001b[39m\u001b[38;5;124m\"\u001b[39m)\n\u001b[0;32m--> 964\u001b[0m X \u001b[38;5;241m=\u001b[39m \u001b[43mcheck_array\u001b[49m\u001b[43m(\u001b[49m\n\u001b[1;32m    965\u001b[0m \u001b[43m    \u001b[49m\u001b[43mX\u001b[49m\u001b[43m,\u001b[49m\n\u001b[1;32m    966\u001b[0m \u001b[43m    \u001b[49m\u001b[43maccept_sparse\u001b[49m\u001b[38;5;241;43m=\u001b[39;49m\u001b[43maccept_sparse\u001b[49m\u001b[43m,\u001b[49m\n\u001b[1;32m    967\u001b[0m \u001b[43m    \u001b[49m\u001b[43maccept_large_sparse\u001b[49m\u001b[38;5;241;43m=\u001b[39;49m\u001b[43maccept_large_sparse\u001b[49m\u001b[43m,\u001b[49m\n\u001b[1;32m    968\u001b[0m \u001b[43m    \u001b[49m\u001b[43mdtype\u001b[49m\u001b[38;5;241;43m=\u001b[39;49m\u001b[43mdtype\u001b[49m\u001b[43m,\u001b[49m\n\u001b[1;32m    969\u001b[0m \u001b[43m    \u001b[49m\u001b[43morder\u001b[49m\u001b[38;5;241;43m=\u001b[39;49m\u001b[43morder\u001b[49m\u001b[43m,\u001b[49m\n\u001b[1;32m    970\u001b[0m \u001b[43m    \u001b[49m\u001b[43mcopy\u001b[49m\u001b[38;5;241;43m=\u001b[39;49m\u001b[43mcopy\u001b[49m\u001b[43m,\u001b[49m\n\u001b[1;32m    971\u001b[0m \u001b[43m    \u001b[49m\u001b[43mforce_all_finite\u001b[49m\u001b[38;5;241;43m=\u001b[39;49m\u001b[43mforce_all_finite\u001b[49m\u001b[43m,\u001b[49m\n\u001b[1;32m    972\u001b[0m \u001b[43m    \u001b[49m\u001b[43mensure_2d\u001b[49m\u001b[38;5;241;43m=\u001b[39;49m\u001b[43mensure_2d\u001b[49m\u001b[43m,\u001b[49m\n\u001b[1;32m    973\u001b[0m \u001b[43m    \u001b[49m\u001b[43mallow_nd\u001b[49m\u001b[38;5;241;43m=\u001b[39;49m\u001b[43mallow_nd\u001b[49m\u001b[43m,\u001b[49m\n\u001b[1;32m    974\u001b[0m \u001b[43m    \u001b[49m\u001b[43mensure_min_samples\u001b[49m\u001b[38;5;241;43m=\u001b[39;49m\u001b[43mensure_min_samples\u001b[49m\u001b[43m,\u001b[49m\n\u001b[1;32m    975\u001b[0m \u001b[43m    \u001b[49m\u001b[43mensure_min_features\u001b[49m\u001b[38;5;241;43m=\u001b[39;49m\u001b[43mensure_min_features\u001b[49m\u001b[43m,\u001b[49m\n\u001b[1;32m    976\u001b[0m \u001b[43m    \u001b[49m\u001b[43mestimator\u001b[49m\u001b[38;5;241;43m=\u001b[39;49m\u001b[43mestimator\u001b[49m\u001b[43m,\u001b[49m\n\u001b[1;32m    977\u001b[0m \u001b[43m\u001b[49m\u001b[43m)\u001b[49m\n\u001b[1;32m    979\u001b[0m y \u001b[38;5;241m=\u001b[39m _check_y(y, multi_output\u001b[38;5;241m=\u001b[39mmulti_output, y_numeric\u001b[38;5;241m=\u001b[39my_numeric)\n\u001b[1;32m    981\u001b[0m check_consistent_length(X, y)\n",
      "File \u001b[0;32m~/opt/anaconda3/lib/python3.9/site-packages/sklearn/utils/validation.py:746\u001b[0m, in \u001b[0;36mcheck_array\u001b[0;34m(array, accept_sparse, accept_large_sparse, dtype, order, copy, force_all_finite, ensure_2d, allow_nd, ensure_min_samples, ensure_min_features, estimator)\u001b[0m\n\u001b[1;32m    744\u001b[0m         array \u001b[38;5;241m=\u001b[39m array\u001b[38;5;241m.\u001b[39mastype(dtype, casting\u001b[38;5;241m=\u001b[39m\u001b[38;5;124m\"\u001b[39m\u001b[38;5;124munsafe\u001b[39m\u001b[38;5;124m\"\u001b[39m, copy\u001b[38;5;241m=\u001b[39m\u001b[38;5;28;01mFalse\u001b[39;00m)\n\u001b[1;32m    745\u001b[0m     \u001b[38;5;28;01melse\u001b[39;00m:\n\u001b[0;32m--> 746\u001b[0m         array \u001b[38;5;241m=\u001b[39m \u001b[43mnp\u001b[49m\u001b[38;5;241;43m.\u001b[39;49m\u001b[43masarray\u001b[49m\u001b[43m(\u001b[49m\u001b[43marray\u001b[49m\u001b[43m,\u001b[49m\u001b[43m \u001b[49m\u001b[43morder\u001b[49m\u001b[38;5;241;43m=\u001b[39;49m\u001b[43morder\u001b[49m\u001b[43m,\u001b[49m\u001b[43m \u001b[49m\u001b[43mdtype\u001b[49m\u001b[38;5;241;43m=\u001b[39;49m\u001b[43mdtype\u001b[49m\u001b[43m)\u001b[49m\n\u001b[1;32m    747\u001b[0m \u001b[38;5;28;01mexcept\u001b[39;00m ComplexWarning \u001b[38;5;28;01mas\u001b[39;00m complex_warning:\n\u001b[1;32m    748\u001b[0m     \u001b[38;5;28;01mraise\u001b[39;00m \u001b[38;5;167;01mValueError\u001b[39;00m(\n\u001b[1;32m    749\u001b[0m         \u001b[38;5;124m\"\u001b[39m\u001b[38;5;124mComplex data not supported\u001b[39m\u001b[38;5;130;01m\\n\u001b[39;00m\u001b[38;5;132;01m{}\u001b[39;00m\u001b[38;5;130;01m\\n\u001b[39;00m\u001b[38;5;124m\"\u001b[39m\u001b[38;5;241m.\u001b[39mformat(array)\n\u001b[1;32m    750\u001b[0m     ) \u001b[38;5;28;01mfrom\u001b[39;00m \u001b[38;5;21;01mcomplex_warning\u001b[39;00m\n",
      "File \u001b[0;32m~/opt/anaconda3/lib/python3.9/site-packages/pandas/core/generic.py:2064\u001b[0m, in \u001b[0;36mNDFrame.__array__\u001b[0;34m(self, dtype)\u001b[0m\n\u001b[1;32m   2063\u001b[0m \u001b[38;5;28;01mdef\u001b[39;00m \u001b[38;5;21m__array__\u001b[39m(\u001b[38;5;28mself\u001b[39m, dtype: npt\u001b[38;5;241m.\u001b[39mDTypeLike \u001b[38;5;241m|\u001b[39m \u001b[38;5;28;01mNone\u001b[39;00m \u001b[38;5;241m=\u001b[39m \u001b[38;5;28;01mNone\u001b[39;00m) \u001b[38;5;241m-\u001b[39m\u001b[38;5;241m>\u001b[39m np\u001b[38;5;241m.\u001b[39mndarray:\n\u001b[0;32m-> 2064\u001b[0m     \u001b[38;5;28;01mreturn\u001b[39;00m \u001b[43mnp\u001b[49m\u001b[38;5;241;43m.\u001b[39;49m\u001b[43masarray\u001b[49m\u001b[43m(\u001b[49m\u001b[38;5;28;43mself\u001b[39;49m\u001b[38;5;241;43m.\u001b[39;49m\u001b[43m_values\u001b[49m\u001b[43m,\u001b[49m\u001b[43m \u001b[49m\u001b[43mdtype\u001b[49m\u001b[38;5;241;43m=\u001b[39;49m\u001b[43mdtype\u001b[49m\u001b[43m)\u001b[49m\n",
      "\u001b[0;31mValueError\u001b[0m: could not convert string to float: 'Female'"
     ]
    }
   ],
   "source": [
    "model_rf = rf.fit(X_TRAIN,y_TRAIN)"
   ]
  },
  {
   "cell_type": "code",
   "execution_count": null,
   "id": "5ba7ad9d-d5d3-41e1-90e0-1ddf2acf5f74",
   "metadata": {},
   "outputs": [],
   "source": []
  }
 ],
 "metadata": {
  "kernelspec": {
   "display_name": "Python 3 (ipykernel)",
   "language": "python",
   "name": "python3"
  },
  "language_info": {
   "codemirror_mode": {
    "name": "ipython",
    "version": 3
   },
   "file_extension": ".py",
   "mimetype": "text/x-python",
   "name": "python",
   "nbconvert_exporter": "python",
   "pygments_lexer": "ipython3",
   "version": "3.9.12"
  }
 },
 "nbformat": 4,
 "nbformat_minor": 5
}
