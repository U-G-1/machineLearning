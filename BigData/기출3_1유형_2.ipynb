{
 "cells": [
  {
   "cell_type": "markdown",
   "id": "7570cc83-978e-4c3d-8f5a-030c27248f64",
   "metadata": {},
   "source": [
    "##### 02. Hitters 데이터셋을 불러와 Years 컬럼이 10인 데이터만 추출하여 HmRun 컬럼이 평균보다 큰 선수가 몇 명인지 계산하여라."
   ]
  },
  {
   "cell_type": "code",
   "execution_count": 1,
   "id": "75c35852-ea24-4c1b-ad76-a897668994c4",
   "metadata": {},
   "outputs": [],
   "source": [
    "import pandas as pd"
   ]
  },
  {
   "cell_type": "code",
   "execution_count": 2,
   "id": "95867067-b4e0-4bac-90c7-f74ca970b5b6",
   "metadata": {},
   "outputs": [],
   "source": [
    "df = pd.read_csv('/Users/ryujiwon/Desktop/BigData/data/기출복원/03회/Hitters.csv')"
   ]
  },
  {
   "cell_type": "code",
   "execution_count": 5,
   "id": "a0551f43-d2c7-4189-9a1d-f9149ada2d2e",
   "metadata": {},
   "outputs": [
    {
     "name": "stdout",
     "output_type": "stream",
     "text": [
      "6\n"
     ]
    }
   ],
   "source": [
    "# 년 컬럼 10 데이터 추출\n",
    "df = df[df['Years'] == 10]\n",
    "\n",
    "# 휴먼 컬럼 평균 구하기\n",
    "hum_avg = df['HmRun'].mean()\n",
    "\n",
    "# 평균 이상 값 추출\n",
    "df = df[df['HmRun'] >= hum_avg]\n",
    "\n",
    "# 결과\n",
    "result = df['HmRun'].count()\n",
    "print(result)"
   ]
  },
  {
   "cell_type": "code",
   "execution_count": null,
   "id": "1766f9c6-32b3-4694-a72b-ee96f9c4ccf3",
   "metadata": {},
   "outputs": [],
   "source": []
  }
 ],
 "metadata": {
  "kernelspec": {
   "display_name": "Python 3 (ipykernel)",
   "language": "python",
   "name": "python3"
  },
  "language_info": {
   "codemirror_mode": {
    "name": "ipython",
    "version": 3
   },
   "file_extension": ".py",
   "mimetype": "text/x-python",
   "name": "python",
   "nbconvert_exporter": "python",
   "pygments_lexer": "ipython3",
   "version": "3.9.12"
  }
 },
 "nbformat": 4,
 "nbformat_minor": 5
}
