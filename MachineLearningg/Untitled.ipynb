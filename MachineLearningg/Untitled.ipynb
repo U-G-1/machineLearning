{
 "cells": [
  {
   "cell_type": "code",
   "execution_count": null,
   "id": "b4446e0c-4943-4fd9-af9d-2ac01345f3f9",
   "metadata": {},
   "outputs": [],
   "source": []
  }
 ],
 "metadata": {
  "kernelspec": {
   "display_name": "",
   "name": ""
  },
  "language_info": {
   "name": ""
  }
 },
 "nbformat": 4,
 "nbformat_minor": 5
}
